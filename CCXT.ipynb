{
 "cells": [
  {
   "cell_type": "markdown",
   "id": "d3cfcac2",
   "metadata": {},
   "source": [
    "## Future Trading on Binance using CCXT"
   ]
  },
  {
   "cell_type": "code",
   "execution_count": null,
   "id": "613f5a6d",
   "metadata": {},
   "outputs": [],
   "source": [
    "import pandas as pd\n",
    "import numpy as np\n",
    "import time\n",
    "import ccxt\n",
    "from threading import Thread"
   ]
  },
  {
   "cell_type": "code",
   "execution_count": null,
   "id": "10935232",
   "metadata": {},
   "outputs": [],
   "source": [
    "class CCXTFuturesTrader():\n",
    "    \n",
    "    def __init__(self, symbol, bar_length, return_thresh, volume_thresh,\n",
    "                units, position = 0, leverage = 5, sandbox = True):\n",
    "        \n",
    "        exchange.set_sandbox_mode(sandbox)\n",
    "        \n",
    "        self.symbol = symbol\n",
    "        self.bar_length = bar_length\n",
    "        self.get_available_intervals()\n",
    "        self.units = units\n",
    "        self.position = position\n",
    "        self.leverage = leverage\n",
    "        self.cum_profits = 0\n",
    "        \n",
    "        #************************* add attributes here **************************\n",
    "        self.return_thresh = return_thresh\n",
    "        self.volume_thresh = volume_thresh\n",
    "        #************************************************************************\n",
    "    \n",
    "    def get_available_intervals(self):\n",
    "        \n",
    "        l = []\n",
    "        for key, value in exchange.timeframes.items():\n",
    "            l.append(key)\n",
    "        self.available_intervals = l\n",
    "    \n",
    "    def start_trading(self, start = None, hist_bars = None):\n",
    "        \n",
    "        if not hist_bars:\n",
    "            hist_bars = 1000\n",
    "        \n",
    "        exchange.set_leverage(leverage = self.leverage, symbol = self.symbol)\n",
    "        \n",
    "        if self.bar_length in self.available_intervals:\n",
    "            self.get_most_recent(symbol = self.symbol, interval = self.bar_length,\n",
    "                                start = start, limit = hist_bars)\n",
    "            thread = Thread(target = self.start_kline_stream, args = (self.stream_candles, self.symbol, self.bar_length))\n",
    "            thread.start()\n",
    "    \n",
    "    def get_most_recent(self, symbol, interval, start, limit):\n",
    "        \n",
    "        if start:\n",
    "            start = exchange.parse8601(start)\n",
    "    \n",
    "        data = exchange.fetchOHLCV(symbol = symbol, timeframe = interval, since = start, limit = limit)\n",
    "        last_bar_actual = data[-1][0]\n",
    "    \n",
    "        last_bar_target = exchange.fetchOHLCV(symbol = symbol, timeframe = interval, limit = 2)[-1][0]\n",
    "    \n",
    "        while last_bar_target != last_bar_actual:\n",
    "        \n",
    "            time.sleep(0.1)\n",
    "            data_add = exchange.fetchOHLCV(symbol = symbol, timeframe = interval, since = last_bar_actual, limit = limit)\n",
    "            data += data_add[1:]\n",
    "            last_bar_actual = data[-1][0]\n",
    "            last_bar_target = exchange.fetchOHLCV(symbol = symbol, timeframe = interval, limit = 2)[-1][0]      \n",
    "    \n",
    "        df = pd.DataFrame(data)\n",
    "        df.columns = [\"Date\", \"Open\", \"High\", \"Low\", \"Close\", \"Volume\"]\n",
    "        df.Date = pd.to_datetime(df.Date, unit = \"ms\")\n",
    "        df.set_index(\"Date\", inplace = True)\n",
    "        df[\"Complete\"] = [True for row in range(len(df)-1)] + [False]\n",
    "        self.last_bar = df.index[-1]\n",
    "\n",
    "        self.data = df\n",
    "        \n",
    "    def stream_candles(self, msg):\n",
    "        start_time = pd.to_datetime(msg[-1][0], unit = \"ms\")\n",
    "        first = msg[-1][1]\n",
    "        high = msg[-1][2]\n",
    "        low = msg[-1][3]\n",
    "        close  = msg[-1][4]\n",
    "        volume = msg[-1][5]\n",
    "        \n",
    "        if start_time < self.last_bar:\n",
    "            pass\n",
    "            \n",
    "        else:\n",
    "            if start_time == self.last_bar:\n",
    "                complete = False\n",
    "            elif start_time > self.last_bar:\n",
    "                complete = True\n",
    "                if len(msg) == 2:\n",
    "                    self.data.loc[self.last_bar] = [msg[0][1], msg[0][2], msg[0][3], msg[0][4], msg[0][5], complete]\n",
    "                else:\n",
    "                    self.data.loc[self.last_bar, \"Complete\"] = complete\n",
    "                self.last_bar = start_time\n",
    "            \n",
    "            print(\".\", end = \"\", flush = True)\n",
    "        \n",
    "            self.data.loc[start_time] = [first, high, low, close, volume, False]\n",
    "        \n",
    "            if complete == True:\n",
    "                self.define_strategy()\n",
    "                self.execute_trades()\n",
    "    \n",
    "    def start_kline_stream(self, callback, symbol, interval):\n",
    "    \n",
    "        self.running = True\n",
    "    \n",
    "        while self.running == True:\n",
    "            msg = exchange.fetchOHLCV(symbol = symbol, timeframe = interval, limit = 2)\n",
    "        \n",
    "            if len(msg) == 0:\n",
    "                print(\"No data received\")\n",
    "            else:\n",
    "                callback(msg)\n",
    "    \n",
    "            time.sleep(1)\n",
    "    \n",
    "    def stop_stream(self):\n",
    "        self.running = False     \n",
    "\n",
    "    def define_strategy(self):\n",
    "        \n",
    "        df = self.data.loc[self.data.Complete == True].copy()\n",
    "        \n",
    "        #**************************** strategy ********************************\n",
    "        df = df[[\"Close\", \"Volume\"]].copy()\n",
    "        df[\"returns\"] = np.log(df.Close / df.Close.shift())\n",
    "        df[\"vol_ch\"] = np.log(df.Volume.div(df.Volume.shift(1)))\n",
    "        df.loc[df.vol_ch > 3, \"vol_ch\"] = np.nan\n",
    "        df.loc[df.vol_ch < -3, \"vol_ch\"] = np.nan  \n",
    "        \n",
    "        cond1 = df.returns <= self.return_thresh[0]\n",
    "        cond2 = df.vol_ch.between(self.volume_thresh[0], self.volume_thresh[1])\n",
    "        cond3 = df.returns >= self.return_thresh[1]\n",
    "        \n",
    "        df[\"position\"] = 0\n",
    "        df.loc[cond1 & cond2, \"position\"] = 1\n",
    "        df.loc[cond3 & cond2, \"position\"] = -1\n",
    "        #***********************************************************************\n",
    "        \n",
    "        self.prepared_data = df.copy()\n",
    "    \n",
    "    def execute_trades(self): \n",
    "        if self.prepared_data[\"position\"].iloc[-1] == 1: # long position\n",
    "            if self.position == 0:\n",
    "                order = exchange.createMarketOrder(symbol = self.symbol, side = \"BUY\", amount = self.units)\n",
    "                self.report_trade(order, \"GOING LONG\")  \n",
    "            elif self.position == -1:\n",
    "                order = exchange.createMarketOrder(symbol = self.symbol, side = \"BUY\", amount = 2 * self.units)\n",
    "                self.report_trade(order, \"GOING LONG\")\n",
    "            self.position = 1\n",
    "        elif self.prepared_data[\"position\"].iloc[-1] == 0: # neutral position\n",
    "            if self.position == 1:\n",
    "                order = exchange.createMarketOrder(symbol = self.symbol, side = \"SELL\", amount = self.units)\n",
    "                self.report_trade(order, \"GOING NEUTRAL\") \n",
    "            elif self.position == -1:\n",
    "                order = exchange.createMarketOrder(symbol = self.symbol, side = \"BUY\", amount = self.units)\n",
    "                self.report_trade(order, \"GOING NEUTRAL\")\n",
    "            self.position = 0\n",
    "        if self.prepared_data[\"position\"].iloc[-1] == -1: # short position\n",
    "            if self.position == 0:\n",
    "                order = exchange.createMarketOrder(symbol = self.symbol, side = \"SELL\", amount = self.units)\n",
    "                self.report_trade(order, \"GOING SHORT\") \n",
    "            elif self.position == 1:\n",
    "                order = exchange.createMarketOrder(symbol = self.symbol, side = \"SELL\", amount = 2 * self.units)\n",
    "                self.report_trade(order, \"GOING SHORT\")\n",
    "            self.position = -1\n",
    "    \n",
    "    def report_trade(self, order, going):\n",
    "        \n",
    "        time.sleep(0.1)\n",
    "        order_time = int(order[\"info\"][\"updateTime\"])\n",
    "        trades = exchange.fetchMyTrades(symbol = self.symbol, since = order_time)\n",
    "        order_time = pd.to_datetime(order_time, unit = \"ms\")\n",
    "        \n",
    "        df = pd.json_normalize(trades)\n",
    "        columns = [\"amount\", \"cost\", \"info.commission\",\"info.realizedPnl\"]\n",
    "        for column in columns:\n",
    "            df[column] = pd.to_numeric(df[column], errors = \"coerce\")\n",
    "        base_units = round(df[\"amount\"].sum(), 5)\n",
    "        quote_units = round(df[\"cost\"].sum(), 5)\n",
    "        commission = -round(df[\"info.commission\"].sum(), 5)\n",
    "        real_profit = round(df[\"info.realizedPnl\"].sum(), 5)\n",
    "        price = round(quote_units / base_units, 5)\n",
    "        \n",
    "        # Calculate cumulative profits from trades\n",
    "        self.cum_profits += round((commission + real_profit), 5)\n",
    "        \n",
    "        # Trade report\n",
    "        print(2 * \"\\n\" + 100* \"-\")\n",
    "        print(\"{} | {}\".format(order_time, going)) \n",
    "        print(\"{} | Base_Units = {} | Quote_Units = {} | Price = {} \".format(order_time, base_units, quote_units, price))\n",
    "        print(\"{} | Profit = {} | CumProfits = {} \".format(order_time, real_profit, self.cum_profits))\n",
    "        print(100 * \"-\" + \"\\n\")"
   ]
  },
  {
   "cell_type": "code",
   "execution_count": null,
   "id": "71955e90",
   "metadata": {},
   "outputs": [],
   "source": [
    "exchange = ccxt.binanceusdm() \n",
    "exchange"
   ]
  },
  {
   "cell_type": "code",
   "execution_count": null,
   "id": "6f920d8a",
   "metadata": {},
   "outputs": [],
   "source": [
    "api_key = \"insert here\"         # Replace with your custom API key\n",
    "secret_key = \"insert here\"      # Replace with your custom secret key"
   ]
  },
  {
   "cell_type": "code",
   "execution_count": null,
   "id": "e2312b64",
   "metadata": {},
   "outputs": [],
   "source": [
    "exchange.apiKey = api_key\n",
    "exchange.secret = secret_key"
   ]
  },
  {
   "cell_type": "code",
   "execution_count": null,
   "id": "80b00ab3",
   "metadata": {},
   "outputs": [],
   "source": [
    "symbol = \"BTC/USDT\"\n",
    "bar_length = \"1m\"\n",
    "return_thresh = [-0.0001, 0.0001]\n",
    "volume_thresh = [-3, 3]\n",
    "units = 0.01\n",
    "position = 0\n",
    "leverage = 5\n",
    "sandbox = True"
   ]
  },
  {
   "cell_type": "code",
   "execution_count": null,
   "id": "cfdf7a4e",
   "metadata": {},
   "outputs": [],
   "source": [
    "trader = CCXTFuturesTrader(symbol = symbol, bar_length = bar_length, return_thresh = return_thresh,\n",
    "                           volume_thresh = volume_thresh, units = units, position = position,\n",
    "                           leverage = leverage, sandbox = sandbox)"
   ]
  },
  {
   "cell_type": "code",
   "execution_count": null,
   "id": "3b857fdd",
   "metadata": {},
   "outputs": [],
   "source": [
    "exchange.fetchBalance()[\"info\"][\"assets\"]"
   ]
  },
  {
   "cell_type": "code",
   "execution_count": null,
   "id": "e19b7f45",
   "metadata": {
    "scrolled": false
   },
   "outputs": [],
   "source": [
    "trader.start_trading(start = None, hist_bars = 10)"
   ]
  },
  {
   "cell_type": "code",
   "execution_count": null,
   "id": "17a12cef",
   "metadata": {},
   "outputs": [],
   "source": [
    "trader.stop_stream()"
   ]
  },
  {
   "cell_type": "code",
   "execution_count": null,
   "id": "6b675eb2",
   "metadata": {
    "scrolled": false
   },
   "outputs": [],
   "source": [
    "trader.prepared_data"
   ]
  },
  {
   "cell_type": "code",
   "execution_count": null,
   "id": "92cb5f4e",
   "metadata": {},
   "outputs": [],
   "source": [
    "exchange.fetchBalance()[\"info\"][\"assets\"]"
   ]
  },
  {
   "cell_type": "code",
   "execution_count": null,
   "id": "da30e73a",
   "metadata": {},
   "outputs": [],
   "source": []
  }
 ],
 "metadata": {
  "kernelspec": {
   "display_name": "Python 3.9.0 64-bit",
   "language": "python",
   "name": "python3"
  },
  "language_info": {
   "codemirror_mode": {
    "name": "ipython",
    "version": 3
   },
   "file_extension": ".py",
   "mimetype": "text/x-python",
   "name": "python",
   "nbconvert_exporter": "python",
   "pygments_lexer": "ipython3",
   "version": "3.9.0"
  },
  "vscode": {
   "interpreter": {
    "hash": "397704579725e15f5c7cb49fe5f0341eb7531c82d19f2c29d197e8b64ab5776b"
   }
  }
 },
 "nbformat": 4,
 "nbformat_minor": 5
}
